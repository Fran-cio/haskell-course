




































































































































































("is " <> "this ") <> "True?" == "is " <> ("this " <> "True?")

(([1] <> [2]) <> []) <> [3,4] == [1] <> ([2] <> ([] <> [3,4]))

([True] <> ([True] <> [False])) == [True] <> [True] <> [False]














(2 + 3) + 4 -- 9
2 + (3 + 4) -- 9 ✅

(2 * 3) * 4 -- 24
2 * (3 * 4) -- 24 ✅

(2 - 3) - 4 -- -5
2 - (3 - 4) -- 3 ❌

(2 `subtract` 3) `subtract` 4 -- 3
2 `subtract` (3 `subtract` 4) -- -1 ❌














newtype Sum a = Sum { getSum :: a }
  deriving (Show, Eq)

newtype Product a = Product { getProduct :: a }
  deriving (Show, Eq)





instance Num a => Semigroup (Sum a) where
  (Sum a) <> (Sum b) = Sum (a + b)

instance Num a => Semigroup (Product a) where
  (Product a) <> (Product b) = Product (a * b)





Sum 3 <> Sum 2

Product 5 <> Product 9

(Sum 4 <> Sum 5) <> Sum 1 == Sum 4 <> (Sum 5 <> Sum 1)

getProduct $ Product 3 <> Product 5 <> Product 2

-- Sum 9 <> Product 10 -- ❌ Won't compile! Different types!!











newtype Max a = Max { getMax :: a }
  deriving (Show, Eq)

newtype Min a = Min { getMin :: a }
  deriving (Show, Eq)





instance Ord a => Semigroup (Max a) where
  (Max a) <> (Max b) = Max (a `max` b)

instance Ord a => Semigroup (Min a) where
  (Min a) <> (Min b) = Min (a `min` b)





Min 3 <> Min 6

Max 9 <> Max 0

(Min 4 <> Min 5) <> Min 1 == Min 4 <> (Min 5 <> Min 1)

getMax $ Max 3 <> Max 5 <> Max 2





data Severity = Low | Medium | High | Critical deriving (Show, Eq)











instance Semigroup Severity where
  Critical <> _ = Critical
  _ <> Critical = Critical
  High <> _     = High
  _ <> High     = High
  Medium <> _   = Medium
  _ <> Medium   = Medium
  _ <> _        = Low





High <> Medium

Low <> Medium <> Low

(High <> Low) <> Critical == High <> (Low <> Critical)


















































--instance Monoid [a] where
--  mempty = []

instance Num a => Monoid (Sum a) where
  mempty = Sum 0

instance Num a => Monoid (Product a) where
  mempty = Product 1

instance (Ord a, Bounded a) => Monoid (Max a) where
  mempty = Max minBound

instance (Ord a, Bounded a) => Monoid (Min a) where
  mempty = Min maxBound

instance Monoid Severity where
  mempty = Low





Sum 2 <> mempty <> Sum 3 == Sum 2 <> Sum 3 -- True

mconcat [Product 2, Product 3, mempty] == Product 2 <> Product 3 -- True

(mempty) :: Max Int -- Max {getMax = -9223372036854775808}

Max 2 <> mempty <> Max 3 :: Max Int -- Max {getMax = 3}

(mempty) :: Min Int -- Min {getMin = 9223372036854775807}

mempty <> Min 2 <> mempty :: Min Int -- Min {getMin = 2}

mconcat [mempty, Medium, mempty, mempty] -- Medium

Sum 9 <> Sum 11 == Sum 9 `mappend` Sum 11 -- True























































































