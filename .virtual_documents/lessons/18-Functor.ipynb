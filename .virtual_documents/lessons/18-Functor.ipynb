:opt no-lint























import Data.Char (toLower)

lowerString :: [Char] -> [Char]
lowerString []     = []
lowerString (x:xs) = toLower x : lowerString xs

lowerString "Hi, How's it Going?"





addOne :: Num a => [a] -> [a]
addOne []     = []
addOne (x:xs) = (x + 1) : addOne xs

addOne [1,1,2,3]





boolToBit :: [Bool] -> [Char]
boolToBit []     = []
boolToBit (x:xs) = (if x then '1' else '0') : boolToBit xs

boolToBit [True,False,True]

















map :: (a -> b) -> [a] -> [b]
map _ []     = []
map f (x:xs) = f x : map f xs


map toLower "Hi, How's it Going?"

map (+1) [1,1,2,3]

map (\x -> if x then '1' else '0') [True,False,True]











maybeMap :: (a -> b) -> Maybe a -> Maybe b
maybeMap _ Nothing  = Nothing
maybeMap f (Just x) = Just (f x)


maybeMap toLower (Just 'A')

maybeMap (+1) (Just 3)

maybeMap (\x -> if x then '1' else '0') (Just True)


maybeMap toLower Nothing

maybeMap (+1) Nothing

maybeMap (\x -> if x then '1' else '0') Nothing











data Tree a = Leaf a | Node (Tree a) a (Tree a) deriving (Show, Eq)


exampleTree = Node (Leaf 2) 1 (Node (Leaf 4) 3 (Leaf 5))
exampleTree


--   1
--  / \
-- 2   3
--    / \
--   4   5





treeMap :: (a -> b) -> Tree a -> Tree b
treeMap f (Leaf x)       = Leaf (f x)
treeMap f (Node lt x rt) = Node (treeMap f lt) (f x) (treeMap f rt)


treeMap toLower (Node (Leaf 'B') 'A' (Node (Leaf 'D') 'C'(Leaf 'E')))

treeMap (+1) (Node (Leaf 2) 1 (Node (Leaf 4) 3 (Leaf 5)))

treeMap (\x -> if x then '1' else '0') (Node (Leaf False) True (Node (Leaf False) True (Leaf True)))
































-- map :: (a -> b) -> [a] -> [b]
-- map _ []     = []
-- map f (x:xs) = f x : map f xs

wrongFmap :: (a -> b) -> [a] -> [b]
wrongFmap _ []     = []
wrongFmap f (x:xs) = f x : f x : wrongFmap f xs

map (+1) [1,2,3]
wrongFmap (+1) [1,2,3]

(map (\x -> x - 1)) . (map (+1)) $ [1,2,3]
(wrongFmap (\x -> x - 1)) . (wrongFmap (+1)) $ [1,2,3]





-- id x = x

id 3 == 3

id [1,2,3] == [1,2,3] -- Apply id to the whole list

map id "Hello!" == "Hello!" -- Apply id to every element of the list

wrongFmap id "Hello!" == "Hello!"

wrongFmap id "Hello!"
































:k Eq
:k Ord
:k Functor





























instance Functor Tree where
  -- fmap :: (a -> b) -> Tree a -> Tree b
  fmap f (Leaf x)       = Leaf (f x)
  fmap f (Node lt x rt) = Node (fmap f lt) (f x) (fmap f rt)





boolToBit :: Bool -> Char
boolToBit x = if x then '1' else '0'

exampleTree = Node (Leaf False) True (Node (Leaf False) True (Leaf True))

fmap boolToBit [False,True,False]

fmap boolToBit (Just True)

fmap boolToBit exampleTree

fmap id [1,2,3] == id [1,2,3]

fmap id (Just 'c') == id (Just 'c')

fmap id exampleTree == id exampleTree

















:k Either
:k Either String

















fmap (+1) (Left 1)

fmap (+1) (Right 1)

fmap toLower (Left 'A')

fmap id (Left 'A') == id (Left 'A')

fmap id (Right 'A') == id (Right 'A')











:t ('c', True)

:t (True, 'c')

:t ('c', True, 1 :: Int)





:k (Char, Bool)
:k (Bool, Char)
:k (Char, Bool, Int)

:k [Int]
:k []





:k (,)
:k (,,)


:k (,) Int  -- :k (a,) doesn't work. No sugar for tuples.
:k (,,) String Bool 

















fmap (+1) (1,1)

fmap (+1) ('a',1)

fmap (*2) (True,'a',2)

fmap toLower ('A','B')

fmap toLower (1,'B')

fmap toLower (2, True, 'A')

fmap id ('a',1 ) == id ('a',1 )

fmap id (2, True, 'A') == id (2, True, 'A')








:k (Char, Bool)
:k (,)

biggerThan3 :: Int -> Bool
biggerThan3 = (>3)

:t biggerThan3
:k (Int -> Bool)

:k (->)








:k (,)      -- ❌
:k (,) Int  -- Functastic! ✅

:k (->)     -- ❌
:k (->) Int -- Functastic! ✅





















































value1 :: Int -> Int
value1 = (*2)

:t value1
value1 3

:t (fmap (>4) value1)
(fmap (>4) value1) 3


value2 :: Bool -> Char -- boolToBit function
value2 x = if x then '1' else '0'

:t value2
value2 True

:t (fmap succ value2)
(fmap succ value2) True


(fmap id value1) 5 == (id value1) 5

(fmap id value2) False == (id value2) False











fmap toLower (Node (Leaf 'B') 'A' (Node (Leaf 'D') 'C'(Leaf 'E')))
toLower `fmap` (Node (Leaf 'B') 'A' (Node (Leaf 'D') 'C'(Leaf 'E')))


fmap (+1) (Just 3)
(+1) `fmap` (Just 3)


fmap (\x -> if x then '1' else '0') [True,False,True,False]
(\x -> if x then '1' else '0') `fmap` [True,False,True,False]


fmap (*2) [1,2,3]
(*2) `fmap` [1,2,3]











toLower `fmap` (Node (Leaf 'B') 'A' (Node (Leaf 'D') 'C'(Leaf 'E')))
toLower <$> (Node (Leaf 'B') 'A' (Node (Leaf 'D') 'C'(Leaf 'E')))


(+1) `fmap` (Just 3)
(+1) <$> (Just 3)


(\x -> if x then '1' else '0') `fmap` [True,False,True,False]
(\x -> if x then '1' else '0') <$> [True,False,True,False]


(*2) `fmap` [1,2,3]
(*2) <$> [1,2,3]

















:t toLower             -- Type of original function
toLower 'A'

:t (toLower <$>)       -- Type of lifted function
toLower <$> Just 'A'


boolToBit :: Bool -> Char
boolToBit x = if x then '1' else '0'

:t boolToBit            -- Type of original function
boolToBit False

:t (boolToBit <$>)      -- Type of lifted function
boolToBit <$>  [False]











value1 :: Either String Bool
value1 = Right False

value2 :: [Either String Bool]
value2 = [Left "error", Right True, Right False]

value3 :: Maybe [Either String Bool]
value3 = Just [Left "error", Right True, Right False]

value4 :: Tree (Maybe [Either String Bool])
value4 = Leaf $ Just [Left "error", Right True, Right False]





boolToBit :: Bool -> Char
boolToBit x = if x then '1' else '0'

fmap boolToBit value1 -- value1 :: Either String Bool





fmap boolToBit value2  -- value2 :: [Either String Bool]





:t boolToBit
:t (fmap boolToBit)
:t ((fmap . fmap) boolToBit)

(fmap . fmap) boolToBit value2 -- value2 :: [Either String Bool]





(fmap . fmap . fmap) boolToBit value3 -- value3 :: Maybe [Either String Bool]

(fmap . fmap . fmap . fmap) boolToBit value4 -- value4 :: Tree (Maybe [Either String Bool])











unzip' :: [(a, b)] -> ([a], [b])
unzip' l = (map fst l, map snd l)


unzip' [('a', 2), ('b', 4), ('c', 6), ('d', 8)]





unzipf :: Functor f => f (a, b) -> (f a, f b)
unzipf xs = (fst <$> xs, snd <$> xs)


unzipf [('a', 2), ('b', 4), ('c', 6), ('d', 8)]

unzipf (Just ('a', 2))

unzipf $ Node (Leaf ('a', 2)) ('b', 4) (Leaf ('c', 6))





(<&>) :: Functor f => f a -> (a -> b) -> f b 
as <&> f = f <$> as  -- Flipped version of '<$>'.


((+1) <$> (Just 2)) == (Just 2) <&> (+1)


[1,2,3] <&> (+1)


Right 3 <&> (+1)








'a' <$ Just 2

'a' <$ Nothing

'a' <$ [1,2,3,4,5,6]

3 <$ (Node (Leaf 'B') 'A' (Node (Leaf 'D') 'C'(Leaf 'E')))





($>) :: Functor f => f a -> b -> f b
($>) = flip (<$)  -- Flipped version of '<$'.

'a' <$ Just 2

Just 2 $> 'a'


'a' <$ [1,2,3,4,5,6]

[1,2,3,4,5,6] $> 'a'





void :: Functor f => f a -> f ()
void x = () <$ x  -- Discard or ignore the result of evaluation


void (Just 2)

void [1,2,3,4,5,6]

void (Node (Leaf 'B') 'A' (Node (Leaf 'D') 'C'(Leaf 'E')))















